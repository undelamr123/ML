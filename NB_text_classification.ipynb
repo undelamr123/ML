{
 "cells": [
  {
   "cell_type": "code",
   "execution_count": 29,
   "id": "ad9e3e04",
   "metadata": {},
   "outputs": [],
   "source": [
    "import numpy as np\n",
    "import pandas as pd\n",
    "from sklearn.model_selection import train_test_split\n",
    "from sklearn.feature_extraction.text import CountVectorizer\n",
    "from sklearn.naive_bayes import MultinomialNB\n",
    "from sklearn.metrics import accuracy_score,confusion_matrix,precision_score,recall_score"
   ]
  },
  {
   "cell_type": "code",
   "execution_count": 4,
   "id": "964ade95",
   "metadata": {},
   "outputs": [
    {
     "data": {
      "text/html": [
       "<div>\n",
       "<style scoped>\n",
       "    .dataframe tbody tr th:only-of-type {\n",
       "        vertical-align: middle;\n",
       "    }\n",
       "\n",
       "    .dataframe tbody tr th {\n",
       "        vertical-align: top;\n",
       "    }\n",
       "\n",
       "    .dataframe thead th {\n",
       "        text-align: right;\n",
       "    }\n",
       "</style>\n",
       "<table border=\"1\" class=\"dataframe\">\n",
       "  <thead>\n",
       "    <tr style=\"text-align: right;\">\n",
       "      <th></th>\n",
       "      <th>message</th>\n",
       "      <th>review</th>\n",
       "    </tr>\n",
       "  </thead>\n",
       "  <tbody>\n",
       "    <tr>\n",
       "      <th>0</th>\n",
       "      <td>I love this sandwich</td>\n",
       "      <td>pos</td>\n",
       "    </tr>\n",
       "    <tr>\n",
       "      <th>1</th>\n",
       "      <td>this is an amazing place</td>\n",
       "      <td>pos</td>\n",
       "    </tr>\n",
       "    <tr>\n",
       "      <th>2</th>\n",
       "      <td>I feel very good about these beers</td>\n",
       "      <td>pos</td>\n",
       "    </tr>\n",
       "    <tr>\n",
       "      <th>3</th>\n",
       "      <td>this is my best work</td>\n",
       "      <td>pos</td>\n",
       "    </tr>\n",
       "    <tr>\n",
       "      <th>4</th>\n",
       "      <td>what an awesome view</td>\n",
       "      <td>pos</td>\n",
       "    </tr>\n",
       "  </tbody>\n",
       "</table>\n",
       "</div>"
      ],
      "text/plain": [
       "                              message review\n",
       "0                I love this sandwich    pos\n",
       "1            this is an amazing place    pos\n",
       "2  I feel very good about these beers    pos\n",
       "3                this is my best work    pos\n",
       "4                what an awesome view    pos"
      ]
     },
     "execution_count": 4,
     "metadata": {},
     "output_type": "execute_result"
    }
   ],
   "source": [
    "data = pd.read_csv(\"text_classification.csv\",names=[\"message\",\"review\"])\n",
    "data.head()"
   ]
  },
  {
   "cell_type": "code",
   "execution_count": 5,
   "id": "1784a28b",
   "metadata": {},
   "outputs": [
    {
     "data": {
      "text/plain": [
       "(18, 2)"
      ]
     },
     "execution_count": 5,
     "metadata": {},
     "output_type": "execute_result"
    }
   ],
   "source": [
    "data.shape"
   ]
  },
  {
   "cell_type": "code",
   "execution_count": 9,
   "id": "673bcb7b",
   "metadata": {},
   "outputs": [
    {
     "data": {
      "text/html": [
       "<div>\n",
       "<style scoped>\n",
       "    .dataframe tbody tr th:only-of-type {\n",
       "        vertical-align: middle;\n",
       "    }\n",
       "\n",
       "    .dataframe tbody tr th {\n",
       "        vertical-align: top;\n",
       "    }\n",
       "\n",
       "    .dataframe thead th {\n",
       "        text-align: right;\n",
       "    }\n",
       "</style>\n",
       "<table border=\"1\" class=\"dataframe\">\n",
       "  <thead>\n",
       "    <tr style=\"text-align: right;\">\n",
       "      <th></th>\n",
       "      <th>message</th>\n",
       "      <th>review</th>\n",
       "      <th>labelnum</th>\n",
       "    </tr>\n",
       "  </thead>\n",
       "  <tbody>\n",
       "    <tr>\n",
       "      <th>0</th>\n",
       "      <td>I love this sandwich</td>\n",
       "      <td>pos</td>\n",
       "      <td>1</td>\n",
       "    </tr>\n",
       "    <tr>\n",
       "      <th>1</th>\n",
       "      <td>this is an amazing place</td>\n",
       "      <td>pos</td>\n",
       "      <td>1</td>\n",
       "    </tr>\n",
       "    <tr>\n",
       "      <th>2</th>\n",
       "      <td>I feel very good about these beers</td>\n",
       "      <td>pos</td>\n",
       "      <td>1</td>\n",
       "    </tr>\n",
       "    <tr>\n",
       "      <th>3</th>\n",
       "      <td>this is my best work</td>\n",
       "      <td>pos</td>\n",
       "      <td>1</td>\n",
       "    </tr>\n",
       "    <tr>\n",
       "      <th>4</th>\n",
       "      <td>what an awesome view</td>\n",
       "      <td>pos</td>\n",
       "      <td>1</td>\n",
       "    </tr>\n",
       "    <tr>\n",
       "      <th>5</th>\n",
       "      <td>I do not like this restaurant</td>\n",
       "      <td>neg</td>\n",
       "      <td>0</td>\n",
       "    </tr>\n",
       "    <tr>\n",
       "      <th>6</th>\n",
       "      <td>I am tired of this stuff</td>\n",
       "      <td>neg</td>\n",
       "      <td>0</td>\n",
       "    </tr>\n",
       "  </tbody>\n",
       "</table>\n",
       "</div>"
      ],
      "text/plain": [
       "                              message review  labelnum\n",
       "0                I love this sandwich    pos         1\n",
       "1            this is an amazing place    pos         1\n",
       "2  I feel very good about these beers    pos         1\n",
       "3                this is my best work    pos         1\n",
       "4                what an awesome view    pos         1\n",
       "5       I do not like this restaurant    neg         0\n",
       "6            I am tired of this stuff    neg         0"
      ]
     },
     "execution_count": 9,
     "metadata": {},
     "output_type": "execute_result"
    }
   ],
   "source": [
    "data[\"labelnum\"]= data[\"review\"].map({\"pos\":1,\"neg\":0})\n",
    "data.head(7)"
   ]
  },
  {
   "cell_type": "code",
   "execution_count": 16,
   "id": "1c6a9186",
   "metadata": {
    "scrolled": true
   },
   "outputs": [
    {
     "name": "stdout",
     "output_type": "stream",
     "text": [
      "0                  I love this sandwich\n",
      "1              this is an amazing place\n",
      "2    I feel very good about these beers\n",
      "3                  this is my best work\n",
      "4                  what an awesome view\n",
      "Name: message, dtype: object \n",
      "\n",
      " 0    1\n",
      "1    1\n",
      "2    1\n",
      "3    1\n",
      "4    1\n",
      "Name: labelnum, dtype: int64\n"
     ]
    }
   ],
   "source": [
    "X = data[\"message\"]\n",
    "Y = data[\"labelnum\"]\n",
    "print(X.head(),\"\\n\\n\",Y.head())"
   ]
  },
  {
   "cell_type": "markdown",
   "id": "2c184b9b",
   "metadata": {},
   "source": [
    "# Splitting the data into train and test data\n"
   ]
  },
  {
   "cell_type": "code",
   "execution_count": 31,
   "id": "356999d6",
   "metadata": {
    "scrolled": true
   },
   "outputs": [
    {
     "name": "stdout",
     "output_type": "stream",
     "text": [
      "Total no.of training data samples : (14,) \n",
      "Total no.of testing data samples : (4,)\n"
     ]
    }
   ],
   "source": [
    "x_train,x_test,y_train,y_test = train_test_split(X,Y,test_size=0.2,random_state=3)\n",
    "print(\"Total no.of training data samples :\",x_train.shape,\"\\nTotal no.of testing data samples :\",x_test.shape)"
   ]
  },
  {
   "cell_type": "markdown",
   "id": "b29d0b6e",
   "metadata": {},
   "source": [
    "# Extracting Words or tokens in text document "
   ]
  },
  {
   "cell_type": "code",
   "execution_count": 37,
   "id": "4ed37f61",
   "metadata": {},
   "outputs": [
    {
     "name": "stdout",
     "output_type": "stream",
     "text": [
      "CountVectorizer()\n",
      "\n",
      "The words or tokens in the text documents \n",
      "\n",
      "['am' 'an' 'and' 'awesome' 'bad' 'best' 'boss' 'can' 'dance' 'deal' 'do'\n",
      " 'enemy' 'fun' 'good' 'have' 'he' 'horrible' 'house' 'is' 'like'\n",
      " 'locality' 'love' 'my' 'not' 'of' 'place' 'restaurant' 'sandwich' 'sick'\n",
      " 'stay' 'stuff' 'sworn' 'that' 'this' 'tired' 'to' 'today' 'tomorrow'\n",
      " 'view' 'we' 'went' 'what' 'will' 'with' 'work']\n"
     ]
    }
   ],
   "source": [
    "cv = CountVectorizer()\n",
    "\n",
    "x_train_training = cv.fit_transform(x_train)  # arg is training data\n",
    "x_test_trans = cv.transform(x_test)           # arg is testing data\n",
    "print(\"\\nThe words or tokens in the text documents \\n\")\n",
    "print(cv.get_feature_names_out())\n"
   ]
  },
  {
   "cell_type": "code",
   "execution_count": 39,
   "id": "ca828eda",
   "metadata": {},
   "outputs": [],
   "source": [
    "# help(cv)    for more description about CountVectorizer"
   ]
  },
  {
   "cell_type": "code",
   "execution_count": 33,
   "id": "fcf5d5a5",
   "metadata": {},
   "outputs": [
    {
     "name": "stdout",
     "output_type": "stream",
     "text": [
      "    am  an  and  awesome  bad  best  boss  can  dance  deal  ...  to  today  \\\n",
      "0    0   1    0        1    0     0     0    0      0     0  ...   0      0   \n",
      "1    1   0    1        0    0     0     0    0      0     0  ...   0      0   \n",
      "2    1   0    0        0    0     0     0    0      0     0  ...   0      0   \n",
      "3    0   0    0        0    0     0     0    1      0     1  ...   0      0   \n",
      "4    0   0    0        0    0     0     0    0      1     0  ...   1      0   \n",
      "5    0   0    0        0    0     0     1    0      0     0  ...   0      0   \n",
      "6    0   0    0        0    0     0     0    0      0     0  ...   1      1   \n",
      "7    0   0    0        0    0     0     0    0      0     0  ...   0      0   \n",
      "8    0   0    0        0    0     0     0    0      0     0  ...   0      0   \n",
      "9    0   0    0        0    0     0     0    0      0     0  ...   0      0   \n",
      "10   0   0    0        0    1     0     0    0      0     0  ...   1      0   \n",
      "11   0   0    0        0    0     0     0    0      0     0  ...   0      0   \n",
      "12   0   0    0        0    0     1     0    0      0     0  ...   0      0   \n",
      "13   0   1    0        1    0     0     0    0      0     0  ...   0      0   \n",
      "\n",
      "    tomorrow  view  we  went  what  will  with  work  \n",
      "0          0     1   0     0     1     0     0     0  \n",
      "1          0     0   0     0     0     0     0     0  \n",
      "2          0     0   0     0     0     0     0     0  \n",
      "3          0     0   0     0     0     0     1     0  \n",
      "4          0     0   0     0     0     0     0     0  \n",
      "5          0     0   0     0     0     0     0     0  \n",
      "6          0     0   0     1     0     0     0     0  \n",
      "7          1     0   1     0     0     1     0     0  \n",
      "8          0     0   0     0     0     0     0     0  \n",
      "9          0     0   0     0     0     0     0     0  \n",
      "10         0     0   0     0     0     0     0     0  \n",
      "11         0     0   0     0     0     0     0     0  \n",
      "12         0     0   0     0     0     0     0     1  \n",
      "13         0     0   0     0     0     0     0     0  \n",
      "\n",
      "[14 rows x 45 columns]\n"
     ]
    }
   ],
   "source": [
    "df = pd.DataFrame(x_train_training.toarray(),columns=cv.get_feature_names_out())\n",
    "print(df)"
   ]
  },
  {
   "cell_type": "markdown",
   "id": "72bb0bdf",
   "metadata": {},
   "source": [
    "# Training Naive bayes(NB) classifier on training data"
   ]
  },
  {
   "cell_type": "code",
   "execution_count": 34,
   "id": "05666a5c",
   "metadata": {},
   "outputs": [],
   "source": [
    "clf = MultinomialNB().fit(x_train_training,y_train)\n",
    "predicted = clf.predict(x_test_trans)"
   ]
  },
  {
   "cell_type": "markdown",
   "id": "27e7cc02",
   "metadata": {},
   "source": [
    "## Accuracy score, Confusion matrix,Precision score,Recall score."
   ]
  },
  {
   "cell_type": "code",
   "execution_count": 35,
   "id": "cfb82ad7",
   "metadata": {},
   "outputs": [
    {
     "name": "stdout",
     "output_type": "stream",
     "text": [
      "\n",
      "Accuracy of classifier is : 1.0\n",
      "\n",
      "Confusion Matrix : [[1 0]\n",
      " [0 3]]\n",
      "\n",
      "Precision score is : 1.0\n",
      "\n",
      "Recall score is : 1.0\n"
     ]
    }
   ],
   "source": [
    "print(\"\\nAccuracy of classifier is :\",accuracy_score(y_test,predicted))\n",
    "print(\"\\nConfusion Matrix :\",confusion_matrix(y_test,predicted))\n",
    "print(\"\\nPrecision score is :\",precision_score(y_test,predicted))\n",
    "print(\"\\nRecall score is :\",recall_score(y_test,predicted))"
   ]
  },
  {
   "cell_type": "code",
   "execution_count": null,
   "id": "4e5c6e3d",
   "metadata": {},
   "outputs": [],
   "source": []
  }
 ],
 "metadata": {
  "kernelspec": {
   "display_name": "Python 3 (ipykernel)",
   "language": "python",
   "name": "python3"
  },
  "language_info": {
   "codemirror_mode": {
    "name": "ipython",
    "version": 3
   },
   "file_extension": ".py",
   "mimetype": "text/x-python",
   "name": "python",
   "nbconvert_exporter": "python",
   "pygments_lexer": "ipython3",
   "version": "3.11.3"
  }
 },
 "nbformat": 4,
 "nbformat_minor": 5
}
