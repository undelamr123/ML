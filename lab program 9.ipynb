{
 "cells": [
  {
   "cell_type": "code",
   "execution_count": 9,
   "id": "46b1b1ed",
   "metadata": {},
   "outputs": [
    {
     "name": "stdout",
     "output_type": "stream",
     "text": [
      "iris Data set loaded..\n",
      "dataset is split into training and testing..\n",
      "size of training data and its label (135, 4) (135,)\n",
      "size of training data and its label (15, 4) (15,)\n",
      "label1 0 - setosa\n",
      "label1 1 - versicolor\n",
      "label1 2 - virginica\n",
      "results of calssification using k-nn with k-1\n",
      "sample : [5.7 2.8 4.5 1.3]  Actual-label: 1 predicated-label: 1\n",
      "sample : [7.7 3.8 6.7 2.2]  Actual-label: 2 predicated-label: 2\n",
      "sample : [4.3 3.  1.1 0.1]  Actual-label: 0 predicated-label: 0\n",
      "sample : [5.  3.5 1.6 0.6]  Actual-label: 0 predicated-label: 0\n",
      "sample : [6.  2.7 5.1 1.6]  Actual-label: 1 predicated-label: 2\n",
      "sample : [7.9 3.8 6.4 2. ]  Actual-label: 2 predicated-label: 2\n",
      "sample : [6.1 2.8 4.  1.3]  Actual-label: 1 predicated-label: 1\n",
      "sample : [4.7 3.2 1.3 0.2]  Actual-label: 0 predicated-label: 0\n",
      "sample : [6.  2.9 4.5 1.5]  Actual-label: 1 predicated-label: 1\n",
      "sample : [6.3 2.3 4.4 1.3]  Actual-label: 1 predicated-label: 1\n",
      "sample : [5.4 3.7 1.5 0.2]  Actual-label: 0 predicated-label: 0\n",
      "sample : [5.  3.3 1.4 0.2]  Actual-label: 0 predicated-label: 0\n",
      "sample : [4.6 3.4 1.4 0.3]  Actual-label: 0 predicated-label: 0\n",
      "sample : [4.4 2.9 1.4 0.2]  Actual-label: 0 predicated-label: 0\n",
      "sample : [6.4 3.2 4.5 1.5]  Actual-label: 1 predicated-label: 1\n",
      "classification Accuracy : 0.9333333333333333\n",
      "confusion matrix\n",
      "[[7 0 0]\n",
      " [0 5 1]\n",
      " [0 0 2]]\n",
      "Accuracy\n",
      "              precision    recall  f1-score   support\n",
      "\n",
      "           0       1.00      1.00      1.00         7\n",
      "           1       1.00      0.83      0.91         6\n",
      "           2       0.67      1.00      0.80         2\n",
      "\n",
      "    accuracy                           0.93        15\n",
      "   macro avg       0.89      0.94      0.90        15\n",
      "weighted avg       0.96      0.93      0.94        15\n",
      "\n"
     ]
    }
   ],
   "source": [
    "from sklearn.model_selection import train_test_split\n",
    "from sklearn.neighbors import KNeighborsClassifier\n",
    "from sklearn import datasets\n",
    "iris=datasets.load_iris()\n",
    "print(\"iris Data set loaded..\")\n",
    "x_train,x_test,y_train,y_test=train_test_split(iris.data,iris.target,test_size=0.1)\n",
    "print(\"dataset is split into training and testing..\")\n",
    "print(\"size of training data and its label\",x_train.shape,y_train.shape)\n",
    "print(\"size of training data and its label\",x_test.shape,y_test.shape)\n",
    "for i in range(len(iris.target_names)):\n",
    "    print(\"label1\",i,\"-\",str(iris.target_names[i]))\n",
    "classifier=KNeighborsClassifier(n_neighbors=1)\n",
    "classifier.fit(x_train,y_train)\n",
    "y_pred=classifier.predict(x_test)\n",
    "print(\"results of calssification using k-nn with k-1\")\n",
    "for r in range(0,len(x_test)):\n",
    "    print(\"sample :\",str(x_test[r]),\" Actual-label:\",str(y_test[r]),\"predicated-label:\",str(y_pred[r]))\n",
    "print(\"classification Accuracy :\",classifier.score(x_test,y_test))\n",
    "from sklearn.metrics import classification_report,confusion_matrix\n",
    "print('confusion matrix')\n",
    "print(confusion_matrix(y_test,y_pred))\n",
    "print(\"Accuracy\")\n",
    "print(classification_report(y_test,y_pred))"
   ]
  },
  {
   "cell_type": "code",
   "execution_count": null,
   "id": "0ad587ae",
   "metadata": {},
   "outputs": [],
   "source": []
  }
 ],
 "metadata": {
  "kernelspec": {
   "display_name": "Python 3 (ipykernel)",
   "language": "python",
   "name": "python3"
  },
  "language_info": {
   "codemirror_mode": {
    "name": "ipython",
    "version": 3
   },
   "file_extension": ".py",
   "mimetype": "text/x-python",
   "name": "python",
   "nbconvert_exporter": "python",
   "pygments_lexer": "ipython3",
   "version": "3.11.3"
  }
 },
 "nbformat": 4,
 "nbformat_minor": 5
}
