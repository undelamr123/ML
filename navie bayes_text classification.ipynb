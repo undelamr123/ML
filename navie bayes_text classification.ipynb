{
 "cells": [
  {
   "cell_type": "code",
   "execution_count": 5,
   "id": "67918a56",
   "metadata": {},
   "outputs": [],
   "source": [
    "from sklearn.model_selection import train_test_split\n",
    "from sklearn.feature_extraction.text import CountVectorizer\n",
    "from sklearn.naive_bayes import MultinomialNB\n",
    "from sklearn import metrics\n",
    "import pandas as pd"
   ]
  },
  {
   "cell_type": "code",
   "execution_count": 7,
   "id": "ac306503",
   "metadata": {},
   "outputs": [
    {
     "data": {
      "text/html": [
       "<div>\n",
       "<style scoped>\n",
       "    .dataframe tbody tr th:only-of-type {\n",
       "        vertical-align: middle;\n",
       "    }\n",
       "\n",
       "    .dataframe tbody tr th {\n",
       "        vertical-align: top;\n",
       "    }\n",
       "\n",
       "    .dataframe thead th {\n",
       "        text-align: right;\n",
       "    }\n",
       "</style>\n",
       "<table border=\"1\" class=\"dataframe\">\n",
       "  <thead>\n",
       "    <tr style=\"text-align: right;\">\n",
       "      <th></th>\n",
       "      <th>message</th>\n",
       "      <th>label</th>\n",
       "    </tr>\n",
       "  </thead>\n",
       "  <tbody>\n",
       "    <tr>\n",
       "      <th>0</th>\n",
       "      <td>I love this sandwich</td>\n",
       "      <td>pos</td>\n",
       "    </tr>\n",
       "    <tr>\n",
       "      <th>1</th>\n",
       "      <td>this is an amazing place</td>\n",
       "      <td>pos</td>\n",
       "    </tr>\n",
       "    <tr>\n",
       "      <th>2</th>\n",
       "      <td>I feel very good about these beers</td>\n",
       "      <td>pos</td>\n",
       "    </tr>\n",
       "    <tr>\n",
       "      <th>3</th>\n",
       "      <td>this is my best work</td>\n",
       "      <td>pos</td>\n",
       "    </tr>\n",
       "    <tr>\n",
       "      <th>4</th>\n",
       "      <td>what an awesome view</td>\n",
       "      <td>pos</td>\n",
       "    </tr>\n",
       "    <tr>\n",
       "      <th>5</th>\n",
       "      <td>I do not like this restaurant</td>\n",
       "      <td>neg</td>\n",
       "    </tr>\n",
       "    <tr>\n",
       "      <th>6</th>\n",
       "      <td>I am tired of this stuff</td>\n",
       "      <td>neg</td>\n",
       "    </tr>\n",
       "    <tr>\n",
       "      <th>7</th>\n",
       "      <td>I can't deal with this</td>\n",
       "      <td>neg</td>\n",
       "    </tr>\n",
       "    <tr>\n",
       "      <th>8</th>\n",
       "      <td>he is my sworn enemy</td>\n",
       "      <td>neg</td>\n",
       "    </tr>\n",
       "    <tr>\n",
       "      <th>9</th>\n",
       "      <td>my boss is horrible</td>\n",
       "      <td>neg</td>\n",
       "    </tr>\n",
       "    <tr>\n",
       "      <th>10</th>\n",
       "      <td>this is an awesome place</td>\n",
       "      <td>pos</td>\n",
       "    </tr>\n",
       "    <tr>\n",
       "      <th>11</th>\n",
       "      <td>I donot like the taste of this juice</td>\n",
       "      <td>neg</td>\n",
       "    </tr>\n",
       "    <tr>\n",
       "      <th>12</th>\n",
       "      <td>I love to dance</td>\n",
       "      <td>pos</td>\n",
       "    </tr>\n",
       "    <tr>\n",
       "      <th>13</th>\n",
       "      <td>I am sick and tired of this place</td>\n",
       "      <td>neg</td>\n",
       "    </tr>\n",
       "    <tr>\n",
       "      <th>14</th>\n",
       "      <td>what a great holiday</td>\n",
       "      <td>pos</td>\n",
       "    </tr>\n",
       "    <tr>\n",
       "      <th>15</th>\n",
       "      <td>that is a bad locality to stay</td>\n",
       "      <td>neg</td>\n",
       "    </tr>\n",
       "    <tr>\n",
       "      <th>16</th>\n",
       "      <td>we will have good fun tomorrow</td>\n",
       "      <td>pos</td>\n",
       "    </tr>\n",
       "    <tr>\n",
       "      <th>17</th>\n",
       "      <td>I went to my enemy's house today</td>\n",
       "      <td>neg</td>\n",
       "    </tr>\n",
       "  </tbody>\n",
       "</table>\n",
       "</div>"
      ],
      "text/plain": [
       "                                 message label\n",
       "0                   I love this sandwich   pos\n",
       "1               this is an amazing place   pos\n",
       "2     I feel very good about these beers   pos\n",
       "3                   this is my best work   pos\n",
       "4                   what an awesome view   pos\n",
       "5          I do not like this restaurant   neg\n",
       "6               I am tired of this stuff   neg\n",
       "7                 I can't deal with this   neg\n",
       "8                   he is my sworn enemy   neg\n",
       "9                    my boss is horrible   neg\n",
       "10              this is an awesome place   pos\n",
       "11  I donot like the taste of this juice   neg\n",
       "12                       I love to dance   pos\n",
       "13     I am sick and tired of this place   neg\n",
       "14                  what a great holiday   pos\n",
       "15        that is a bad locality to stay   neg\n",
       "16        we will have good fun tomorrow   pos\n",
       "17      I went to my enemy's house today   neg"
      ]
     },
     "execution_count": 7,
     "metadata": {},
     "output_type": "execute_result"
    }
   ],
   "source": [
    "df=pd.read_csv(\"text_classification.csv\",names=['message',\"label\"])\n",
    "df"
   ]
  },
  {
   "cell_type": "code",
   "execution_count": 8,
   "id": "75f17815",
   "metadata": {},
   "outputs": [
    {
     "data": {
      "text/html": [
       "<div>\n",
       "<style scoped>\n",
       "    .dataframe tbody tr th:only-of-type {\n",
       "        vertical-align: middle;\n",
       "    }\n",
       "\n",
       "    .dataframe tbody tr th {\n",
       "        vertical-align: top;\n",
       "    }\n",
       "\n",
       "    .dataframe thead th {\n",
       "        text-align: right;\n",
       "    }\n",
       "</style>\n",
       "<table border=\"1\" class=\"dataframe\">\n",
       "  <thead>\n",
       "    <tr style=\"text-align: right;\">\n",
       "      <th></th>\n",
       "      <th>message</th>\n",
       "      <th>label</th>\n",
       "      <th>labelnum</th>\n",
       "    </tr>\n",
       "  </thead>\n",
       "  <tbody>\n",
       "    <tr>\n",
       "      <th>0</th>\n",
       "      <td>I love this sandwich</td>\n",
       "      <td>pos</td>\n",
       "      <td>1</td>\n",
       "    </tr>\n",
       "    <tr>\n",
       "      <th>1</th>\n",
       "      <td>this is an amazing place</td>\n",
       "      <td>pos</td>\n",
       "      <td>1</td>\n",
       "    </tr>\n",
       "    <tr>\n",
       "      <th>2</th>\n",
       "      <td>I feel very good about these beers</td>\n",
       "      <td>pos</td>\n",
       "      <td>1</td>\n",
       "    </tr>\n",
       "    <tr>\n",
       "      <th>3</th>\n",
       "      <td>this is my best work</td>\n",
       "      <td>pos</td>\n",
       "      <td>1</td>\n",
       "    </tr>\n",
       "    <tr>\n",
       "      <th>4</th>\n",
       "      <td>what an awesome view</td>\n",
       "      <td>pos</td>\n",
       "      <td>1</td>\n",
       "    </tr>\n",
       "    <tr>\n",
       "      <th>5</th>\n",
       "      <td>I do not like this restaurant</td>\n",
       "      <td>neg</td>\n",
       "      <td>0</td>\n",
       "    </tr>\n",
       "    <tr>\n",
       "      <th>6</th>\n",
       "      <td>I am tired of this stuff</td>\n",
       "      <td>neg</td>\n",
       "      <td>0</td>\n",
       "    </tr>\n",
       "    <tr>\n",
       "      <th>7</th>\n",
       "      <td>I can't deal with this</td>\n",
       "      <td>neg</td>\n",
       "      <td>0</td>\n",
       "    </tr>\n",
       "    <tr>\n",
       "      <th>8</th>\n",
       "      <td>he is my sworn enemy</td>\n",
       "      <td>neg</td>\n",
       "      <td>0</td>\n",
       "    </tr>\n",
       "    <tr>\n",
       "      <th>9</th>\n",
       "      <td>my boss is horrible</td>\n",
       "      <td>neg</td>\n",
       "      <td>0</td>\n",
       "    </tr>\n",
       "    <tr>\n",
       "      <th>10</th>\n",
       "      <td>this is an awesome place</td>\n",
       "      <td>pos</td>\n",
       "      <td>1</td>\n",
       "    </tr>\n",
       "    <tr>\n",
       "      <th>11</th>\n",
       "      <td>I donot like the taste of this juice</td>\n",
       "      <td>neg</td>\n",
       "      <td>0</td>\n",
       "    </tr>\n",
       "    <tr>\n",
       "      <th>12</th>\n",
       "      <td>I love to dance</td>\n",
       "      <td>pos</td>\n",
       "      <td>1</td>\n",
       "    </tr>\n",
       "    <tr>\n",
       "      <th>13</th>\n",
       "      <td>I am sick and tired of this place</td>\n",
       "      <td>neg</td>\n",
       "      <td>0</td>\n",
       "    </tr>\n",
       "    <tr>\n",
       "      <th>14</th>\n",
       "      <td>what a great holiday</td>\n",
       "      <td>pos</td>\n",
       "      <td>1</td>\n",
       "    </tr>\n",
       "    <tr>\n",
       "      <th>15</th>\n",
       "      <td>that is a bad locality to stay</td>\n",
       "      <td>neg</td>\n",
       "      <td>0</td>\n",
       "    </tr>\n",
       "    <tr>\n",
       "      <th>16</th>\n",
       "      <td>we will have good fun tomorrow</td>\n",
       "      <td>pos</td>\n",
       "      <td>1</td>\n",
       "    </tr>\n",
       "    <tr>\n",
       "      <th>17</th>\n",
       "      <td>I went to my enemy's house today</td>\n",
       "      <td>neg</td>\n",
       "      <td>0</td>\n",
       "    </tr>\n",
       "  </tbody>\n",
       "</table>\n",
       "</div>"
      ],
      "text/plain": [
       "                                 message label  labelnum\n",
       "0                   I love this sandwich   pos         1\n",
       "1               this is an amazing place   pos         1\n",
       "2     I feel very good about these beers   pos         1\n",
       "3                   this is my best work   pos         1\n",
       "4                   what an awesome view   pos         1\n",
       "5          I do not like this restaurant   neg         0\n",
       "6               I am tired of this stuff   neg         0\n",
       "7                 I can't deal with this   neg         0\n",
       "8                   he is my sworn enemy   neg         0\n",
       "9                    my boss is horrible   neg         0\n",
       "10              this is an awesome place   pos         1\n",
       "11  I donot like the taste of this juice   neg         0\n",
       "12                       I love to dance   pos         1\n",
       "13     I am sick and tired of this place   neg         0\n",
       "14                  what a great holiday   pos         1\n",
       "15        that is a bad locality to stay   neg         0\n",
       "16        we will have good fun tomorrow   pos         1\n",
       "17      I went to my enemy's house today   neg         0"
      ]
     },
     "execution_count": 8,
     "metadata": {},
     "output_type": "execute_result"
    }
   ],
   "source": [
    "df['labelnum']=df['label'].map({'pos':1,'neg':0})\n",
    "df"
   ]
  },
  {
   "cell_type": "code",
   "execution_count": 14,
   "id": "4b40c1c7",
   "metadata": {},
   "outputs": [],
   "source": [
    "inp_data=df['message']\n",
    "output=df['labelnum']\n",
    "x_train,x_test,y_train,y_test=train_test_split(inp_data,output,test_size=0.3,random_state=5)\n",
    "cv=CountVectorizer()"
   ]
  },
  {
   "cell_type": "code",
   "execution_count": 23,
   "id": "882dc1ea",
   "metadata": {},
   "outputs": [],
   "source": [
    "x_train_tm=cv.fit_transform(x_train)\n",
    "x_test_tm=cv.transform(x_test)"
   ]
  },
  {
   "cell_type": "code",
   "execution_count": 24,
   "id": "2c409b57",
   "metadata": {},
   "outputs": [
    {
     "name": "stdout",
     "output_type": "stream",
     "text": [
      "    am  an  and  awesome  bad  best  boss  can  dance  deal  ...  this  tired  \\\n",
      "0    0   0    0        0    0     0     0    0      1     0  ...     0      0   \n",
      "1    0   0    0        0    0     0     0    1      0     1  ...     1      0   \n",
      "2    0   1    0        1    0     0     0    0      0     0  ...     0      0   \n",
      "3    0   0    0        0    0     0     0    0      0     0  ...     0      0   \n",
      "4    0   0    0        0    0     0     1    0      0     0  ...     0      0   \n",
      "5    0   0    0        0    0     0     0    0      0     0  ...     1      0   \n",
      "6    0   0    0        0    0     0     0    0      0     0  ...     0      0   \n",
      "7    1   0    0        0    0     0     0    0      0     0  ...     1      1   \n",
      "8    1   0    1        0    0     0     0    0      0     0  ...     1      1   \n",
      "9    0   0    0        0    1     0     0    0      0     0  ...     0      0   \n",
      "10   0   0    0        0    0     0     0    0      0     0  ...     0      0   \n",
      "11   0   0    0        0    0     1     0    0      0     0  ...     1      0   \n",
      "\n",
      "    to  tomorrow  view  we  what  will  with  work  \n",
      "0    1         0     0   0     0     0     0     0  \n",
      "1    0         0     0   0     0     0     1     0  \n",
      "2    0         0     1   0     1     0     0     0  \n",
      "3    0         0     0   0     0     0     0     0  \n",
      "4    0         0     0   0     0     0     0     0  \n",
      "5    0         0     0   0     0     0     0     0  \n",
      "6    0         1     0   1     0     1     0     0  \n",
      "7    0         0     0   0     0     0     0     0  \n",
      "8    0         0     0   0     0     0     0     0  \n",
      "9    1         0     0   0     0     0     0     0  \n",
      "10   0         0     0   0     1     0     0     0  \n",
      "11   0         0     0   0     0     0     0     1  \n",
      "\n",
      "[12 rows x 40 columns]\n"
     ]
    }
   ],
   "source": [
    "df = pd.DataFrame(x_train_tm.toarray(),columns=cv.get_feature_names_out())\n",
    "print(df)"
   ]
  },
  {
   "cell_type": "code",
   "execution_count": 27,
   "id": "4fdc6c25",
   "metadata": {},
   "outputs": [],
   "source": [
    "clf=MultinomialNB()"
   ]
  },
  {
   "cell_type": "code",
   "execution_count": 29,
   "id": "b07334c4",
   "metadata": {},
   "outputs": [],
   "source": [
    "clf=clf.fit(x_train_tm,y_train)"
   ]
  },
  {
   "cell_type": "code",
   "execution_count": 30,
   "id": "b2b352de",
   "metadata": {},
   "outputs": [],
   "source": [
    "pred=clf.predict(x_test_tm)"
   ]
  },
  {
   "cell_type": "code",
   "execution_count": 31,
   "id": "286cefb7",
   "metadata": {},
   "outputs": [
    {
     "name": "stdout",
     "output_type": "stream",
     "text": [
      "accuracy  is:  0.8333333333333334\n"
     ]
    }
   ],
   "source": [
    "print(\"accuracy  is: \",metrics.accuracy_score(y_test,pred))"
   ]
  },
  {
   "cell_type": "code",
   "execution_count": 35,
   "id": "50c1bb1a",
   "metadata": {},
   "outputs": [
    {
     "name": "stdout",
     "output_type": "stream",
     "text": [
      "confusion matrix:  [[3 0]\n",
      " [1 2]]\n"
     ]
    }
   ],
   "source": [
    "print(\"confusion matrix: \",metrics.confusion_matrix(y_test,pred))"
   ]
  },
  {
   "cell_type": "code",
   "execution_count": 36,
   "id": "21cf4ee9",
   "metadata": {},
   "outputs": [
    {
     "name": "stdout",
     "output_type": "stream",
     "text": [
      "precision is:  1.0\n"
     ]
    }
   ],
   "source": [
    "print(\"precision is: \",metrics.precision_score(y_test,pred))"
   ]
  },
  {
   "cell_type": "code",
   "execution_count": 37,
   "id": "d4cf8eb6",
   "metadata": {},
   "outputs": [
    {
     "name": "stdout",
     "output_type": "stream",
     "text": [
      "recall is:  0.6666666666666666\n"
     ]
    }
   ],
   "source": [
    "print(\"recall is: \",metrics.recall_score(y_test,pred))"
   ]
  }
 ],
 "metadata": {
  "kernelspec": {
   "display_name": "Python 3 (ipykernel)",
   "language": "python",
   "name": "python3"
  },
  "language_info": {
   "codemirror_mode": {
    "name": "ipython",
    "version": 3
   },
   "file_extension": ".py",
   "mimetype": "text/x-python",
   "name": "python",
   "nbconvert_exporter": "python",
   "pygments_lexer": "ipython3",
   "version": "3.11.3"
  }
 },
 "nbformat": 4,
 "nbformat_minor": 5
}
